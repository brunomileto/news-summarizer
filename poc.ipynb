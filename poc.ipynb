{
 "cells": [
  {
   "cell_type": "code",
   "execution_count": 3,
   "metadata": {},
   "outputs": [
    {
     "data": {
      "text/plain": [
       "True"
      ]
     },
     "execution_count": 3,
     "metadata": {},
     "output_type": "execute_result"
    }
   ],
   "source": [
    "import json\n",
    "from dotenv import load_dotenv\n",
    "load_dotenv()"
   ]
  },
  {
   "cell_type": "code",
   "execution_count": 6,
   "metadata": {},
   "outputs": [],
   "source": [
    "import requests\n",
    "from newspaper import Article\n",
    "\n",
    "headers = {\n",
    "    'User-Agent': 'Mozilla/5.0 (Windows NT 10.0; Win64; x64) AppleWebKit/537.36 (KHTML, like Gecko) Chrome/89.0.4389.82 Safari/537.36'\n",
    "}\n",
    "\n",
    "article_url = \"https://www.artificialintelligence-news.com/2022/01/25/meta-claims-new-ai-supercomputer-will-set-records/\"\n",
    "\n",
    "session = requests.Session()\n"
   ]
  },
  {
   "cell_type": "code",
   "execution_count": 8,
   "metadata": {},
   "outputs": [
    {
     "name": "stdout",
     "output_type": "stream",
     "text": [
      "Title: Meta claims its new AI supercomputer will set records\n",
      "Text:  Ryan is a senior editor at TechForge Media with over a decade of experience covering the latest technology and interviewing leading industry figures. He can often be sighted at tech conferences with a strong coffee in one hand and a laptop in the other. If it's geeky, he’s probably into it. Find him on Twitter (@Gadget_Ry) or Mastodon (@gadgetry@techhub.social)\n",
      "\n",
      "Meta (formerly Facebook) has unveiled an AI supercomputer that it claims will be the world’s fastest.\n",
      "\n",
      "The supercomputer is called the AI Research SuperCluster (RSC) and is yet to be fully complete. However, Meta’s researchers have already begun using it for training large natural language processing (NLP) and computer vision models.\n",
      "\n",
      "RSC is set to be fully built in mid-2022. Meta says that it will be the fastest in the world once complete and the aim is for it to be capable of training models with trillions of parameters.\n",
      "\n",
      "“We hope RSC will help us build entirely new AI systems that can, for example, power real-time voice translations to large groups of people, each speaking a different language, so they can seamlessly collaborate on a research project or play an AR game together,” wrote Meta in a blog post.\n",
      "\n",
      "“Ultimately, the work done with RSC will pave the way toward building technologies for the next major computing platform — the metaverse, where AI-driven applications and products will play an important role.”\n",
      "\n",
      "For production, Meta expects RSC will be 20x faster than Meta’s current V100-based clusters. RSC is also estimated to be 9x faster at running the NVIDIA Collective Communication Library (NCCL) and 3x faster at training large-scale NLP workflows.\n",
      "\n",
      "A model with tens of billions of parameters can finish training in three weeks compared with nine weeks prior to RSC.\n",
      "\n",
      "Meta says that its previous AI research infrastructure only leveraged open source and other publicly-available datasets. RSC was designed with the security and privacy controls in mind to allow Meta to use real-world examples from its production systems in production training.\n",
      "\n",
      "What this means in practice is that Meta can use RSC to advance research for vital tasks such as identifying harmful content on its platforms—using real data from them.\n",
      "\n",
      "“We believe this is the first time performance, reliability, security, and privacy have been tackled at such a scale,” says Meta.\n",
      "\n",
      "(Image Credit: Meta)\n",
      "\n",
      "Want to learn more about AI and big data from industry leaders? Check out AI & Big Data Expo. The next events in the series will be held in Santa Clara on 11-12 May 2022, Amsterdam on 20-21 September 2022, and London on 1-2 December 2022.\n",
      "\n",
      "Explore other upcoming enterprise technology events and webinars powered by TechForge here.\n"
     ]
    }
   ],
   "source": [
    "try:\n",
    "  response = session.get(article_url, headers=headers, timeout=10)\n",
    "  \n",
    "  if response.status_code == 200:\n",
    "    article = Article(article_url)\n",
    "    article.download()\n",
    "    article.parse()\n",
    "    \n",
    "    print(f\"Title: {article.title}\")\n",
    "    print(f\"Text:  {article.text}\")\n",
    "  else:\n",
    "    print(f\"Failed to fetch article at {article_url}\")\n",
    "except Exception as e:\n",
    "  print(f\"Error ocurred while fetching article at {article_url}: {e}\")"
   ]
  },
  {
   "cell_type": "code",
   "execution_count": 9,
   "metadata": {},
   "outputs": [],
   "source": [
    "from langchain.schema import HumanMessage\n",
    "\n",
    "# getting data from the scraping article\n",
    "article_title = article.title\n",
    "article_text = article.text "
   ]
  },
  {
   "cell_type": "code",
   "execution_count": 10,
   "metadata": {},
   "outputs": [],
   "source": [
    "# preparing the template for the prompt\n",
    "template = \"\"\"\n",
    "You are an excelent assistant that summarizes online articles about technology.\n",
    "\n",
    "Here is the article you need to summarize\n",
    "\n",
    "=========\n",
    "Title: {article_title}\n",
    "Text: {article_text}\n",
    "=========\n",
    "\n",
    "Write a summary of the previous article\n",
    "\"\"\""
   ]
  },
  {
   "cell_type": "code",
   "execution_count": 11,
   "metadata": {},
   "outputs": [],
   "source": [
    "# creating the prompt\n",
    "prompt = template.format(article_title=article_title, article_text=article_text)\n",
    "\n",
    "# creating the message using human message, that is a structured data format, representing user messages\n",
    "# within the chat-based interaction framework\n",
    "messages = [HumanMessage(content=prompt)]"
   ]
  },
  {
   "cell_type": "code",
   "execution_count": 12,
   "metadata": {},
   "outputs": [],
   "source": [
    "from langchain_openai.chat_models import ChatOpenAI\n",
    "\n",
    "# load model\n",
    "chat = ChatOpenAI(model_name='gpt-4-0125-preview', temperature=0)"
   ]
  },
  {
   "cell_type": "code",
   "execution_count": 13,
   "metadata": {},
   "outputs": [
    {
     "name": "stderr",
     "output_type": "stream",
     "text": [
      "/home/mileto/dev/lab/activeloop/examples/news-summarizer/venv/lib/python3.11/site-packages/langchain_core/_api/deprecation.py:117: LangChainDeprecationWarning: The function `__call__` was deprecated in LangChain 0.1.7 and will be removed in 0.2.0. Use invoke instead.\n",
      "  warn_deprecated(\n"
     ]
    }
   ],
   "source": [
    "# generate summary\n",
    "summary = chat(messages)"
   ]
  },
  {
   "cell_type": "code",
   "execution_count": 14,
   "metadata": {},
   "outputs": [
    {
     "data": {
      "text/markdown": [
       "Meta, previously known as Facebook, has announced the development of what it claims will be the world's fastest AI supercomputer, named the AI Research SuperCluster (RSC). Although the RSC is not yet fully operational, Meta's researchers have already started using it to train extensive natural language processing (NLP) and computer vision models. The supercomputer is expected to be completed by mid-2022 and aims to train models with trillions of parameters, significantly enhancing Meta's AI capabilities.\n",
       "\n",
       "The RSC is projected to be 20 times faster than Meta's current V100-based clusters and will improve efficiency in running NVIDIA's Collective Communication Library and training large-scale NLP workflows. This advancement will reduce the training time for models with tens of billions of parameters from nine weeks to just three weeks.\n",
       "\n",
       "One of the key objectives for the RSC is to support the development of new AI systems that could, for example, facilitate real-time voice translations for large groups of people speaking different languages, enhancing collaboration and interaction in activities such as research projects or augmented reality games. This initiative is part of Meta's broader vision for the metaverse, where AI-driven applications and products will play a crucial role.\n",
       "\n",
       "Meta also highlighted that the RSC was designed with enhanced security and privacy controls, allowing the company to utilize real-world data from its production systems for training purposes. This capability is expected to advance research in critical areas, such as identifying harmful content on its platforms.\n",
       "\n",
       "The announcement underscores Meta's commitment to leading in AI technology and its potential applications, including the ambitious metaverse project. The company believes that the RSC represents a significant step forward in addressing performance, reliability, security, and privacy at scale in AI research infrastructure."
      ],
      "text/plain": [
       "<IPython.core.display.Markdown object>"
      ]
     },
     "execution_count": 14,
     "metadata": {},
     "output_type": "execute_result"
    }
   ],
   "source": [
    "from IPython.display import Markdown\n",
    "Markdown(summary.content)"
   ]
  },
  {
   "cell_type": "code",
   "execution_count": 15,
   "metadata": {},
   "outputs": [],
   "source": [
    "# In a bulleted list format, we need to modify the prompt\n",
    "template = \"\"\"\n",
    "Your are an advanced AI assistant that summarizes articles.\n",
    "\n",
    "Here is the article you need to summarize:\n",
    "\n",
    "Title: {article_title}\n",
    "Text: {article_text}\n",
    "\n",
    "Provide a summarized version of the article in a bulleted list format of max 5 bullets.\n",
    "Important, add the article title to your answer.\n",
    "\"\"\"\n",
    "prompt = template.format(article_text=article_text, article_title=article_title)\n",
    "summary = chat([HumanMessage(content=prompt)])"
   ]
  },
  {
   "cell_type": "code",
   "execution_count": 16,
   "metadata": {},
   "outputs": [
    {
     "data": {
      "text/markdown": [
       "Title: Meta claims its new AI supercomputer will set records\n",
       "\n",
       "- Meta has announced the development of the AI Research SuperCluster (RSC), which it claims will become the world's fastest AI supercomputer upon completion.\n",
       "- The RSC is designed for training large natural language processing (NLP) and computer vision models, with completion expected in mid-2022.\n",
       "- Once operational, RSC aims to support the development of AI systems for real-time voice translations and the metaverse, enhancing AI-driven applications and products.\n",
       "- The supercomputer is expected to be 20x faster than Meta's current systems, significantly reducing the time required for training complex AI models.\n",
       "- Meta emphasizes that RSC incorporates advanced security and privacy controls, enabling the use of real-world data from its platforms for research, particularly in identifying harmful content."
      ],
      "text/plain": [
       "<IPython.core.display.Markdown object>"
      ]
     },
     "execution_count": 16,
     "metadata": {},
     "output_type": "execute_result"
    }
   ],
   "source": [
    "Markdown(summary.content)"
   ]
  },
  {
   "cell_type": "code",
   "execution_count": 14,
   "metadata": {},
   "outputs": [],
   "source": [
    "# Trying now to select the latest news from https://www.artificialintelligence-news.com to get the news from it\n",
    "from newspaper import build\n",
    "\n",
    "# URL of the news website\n",
    "domain = 'artificialintelligence-news'\n",
    "url = f'https://www.{domain}.com'\n",
    "source = build(url, memoize_articles=False)"
   ]
  },
  {
   "cell_type": "code",
   "execution_count": 15,
   "metadata": {},
   "outputs": [
    {
     "name": "stdout",
     "output_type": "stream",
     "text": [
      "https://www.artificialintelligence-news.com/2024/02/02/bank-of-england-governor-ai-wont-lead-mass-job-losses/\n",
      "https://www.artificialintelligence-news.com/2024/02/01/experts-from-30-nations-contribute-global-ai-safety-report/\n",
      "https://www.artificialintelligence-news.com/2024/01/31/uk-and-canada-sign-ai-compute-agreement/\n",
      "https://www.artificialintelligence-news.com/2024/01/30/openai-common-sense-media-promote-safe-ai-use-families/\n",
      "https://www.artificialintelligence-news.com/2024/01/30/how-will-ai-impact-the-gambling-industry/\n",
      "https://www.artificialintelligence-news.com/2024/01/29/financial-services-introducing-ai-hindered-data-issues/\n",
      "https://www.artificialintelligence-news.com/2024/01/26/openai-releases-new-models-lowers-api-pricing/\n",
      "https://www.artificialintelligence-news.com/2024/01/24/ncsc-ai-significantly-boost-cyber-threats-next-two-years/\n",
      "https://www.artificialintelligence-news.com/2024/01/23/ai-generated-biden-robocall-urges-democrats-not-to-vote/\n",
      "https://www.artificialintelligence-news.com/2024/01/22/openai-suspends-developer-politician-impersonating-chatbot/\n",
      "https://www.artificialintelligence-news.com/2024/01/19/google-announces-uk-data-centre-meet-growing-demand-ai/\n",
      "https://www.artificialintelligence-news.com/2024/01/18/deepmind-alphageometry-solves-complex-geometry-problems/\n",
      "https://www.artificialintelligence-news.com/2024/01/17/stability-ai-releases-stable-code-3b-enhanced-coding-assistance/\n",
      "https://www.artificialintelligence-news.com/2024/01/15/imf-ai-could-boost-growth-but-worsen-inequality/\n",
      "https://www.artificialintelligence-news.com/2024/01/11/openai-launches-gpt-store-custom-ai-assistants/\n",
      "https://www.artificialintelligence-news.com/2024/01/09/openai-copyrighted-data-impossible-avoid-for-ai-training/\n",
      "https://www.artificialintelligence-news.com/2024/01/08/mcafee-unveils-ai-powered-deepfake-audio-detection/\n",
      "https://www.artificialintelligence-news.com/2024/01/05/openai-gpt-store-launch-next-week-after-delays/\n",
      "https://www.artificialintelligence-news.com/2024/01/03/myshell-releases-openvoice-voice-cloning-ai/\n",
      "https://www.artificialintelligence-news.com/2024/01/02/us-chief-justice-ai-wont-replace-judges-will-transform-our-work/\n",
      "https://www.artificialintelligence-news.com/2023/12/19/ai-big-data-expo-maximising-value-real-time-data-streams/\n",
      "https://www.artificialintelligence-news.com/2023/12/19/ethics-governance-data-for-good-ai-big-data-expo/\n",
      "https://www.artificialintelligence-news.com/2023/12/18/ai-big-data-expo-ethical-ai-integration-future-trends/\n",
      "https://www.artificialintelligence-news.com/2023/12/18/turning-data-gold-10-ai-marketing-campaign-examples/\n",
      "https://www.artificialintelligence-news.com/2023/12/15/ai-big-data-expo-unlocking-potential-ai-on-edge-devices/\n",
      "https://www.artificialintelligence-news.com/2023/12/14/google-cloud-imagen-2-text-to-image-generator/\n",
      "https://www.artificialintelligence-news.com/2023/12/13/microsoft-unveils-2-7b-parameter-language-model-phi-2/\n",
      "https://www.artificialintelligence-news.com/2023/12/12/dynatrace-organisations-embrace-ai-yet-face-challenges/\n",
      "https://www.artificialintelligence-news.com/2023/12/11/mit-publishes-white-papers-guide-ai-governance/\n",
      "https://www.artificialintelligence-news.com/2023/12/07/ai-big-data-expo-demystifying-ai-seeing-past-hype/\n",
      "https://www.artificialintelligence-news.com/2023/12/07/ai-multi-speaker-lip-sync-has-arrived/\n",
      "https://www.artificialintelligence-news.com/2023/12/06/google-next-gen-ai-model-gemini-outperforms-gpt-4/\n",
      "https://www.artificialintelligence-news.com/2023/12/05/overcoming-the-last-mile-problem-in-knowledge-management/\n",
      "https://www.artificialintelligence-news.com/2023/12/04/absci-astrazeneca-ai-partnership-discover-cancer-treatments/\n",
      "https://www.artificialintelligence-news.com/resources/2024/jan/30/the-total-economic-impact-of-keysight-eggplant-test-automation-software/\n",
      "https://www.artificialintelligence-news.com/resources/2024/jan/30/a-30-60-90-day-plan-for-qa-leaders/\n",
      "https://www.artificialintelligence-news.com/resources/2023/nov/21/email-security-risk-report/\n",
      "https://www.artificialintelligence-news.com/resources/2023/nov/21/phishing-threat-trends-report/\n",
      "https://www.artificialintelligence-news.com/2023/10/31/microsoft-and-siemens-revolutionise-industry-with-ai-powered-copilot/\n",
      "https://www.artificialintelligence-news.com/2023/08/31/baidu-deploys-ernie-bot-generative-ai-public/\n",
      "https://www.artificialintelligence-news.com/2023/11/08/amazon-is-building-llm-rival-openai-and-google/\n"
     ]
    }
   ],
   "source": [
    "for article_url in source.article_urls():\n",
    "  if domain in article_url:\n",
    "    print(article_url)"
   ]
  },
  {
   "cell_type": "code",
   "execution_count": 10,
   "metadata": {},
   "outputs": [
    {
     "name": "stdout",
     "output_type": "stream",
     "text": [
      "None\n"
     ]
    }
   ],
   "source": [
    "print(source.generate_articles())"
   ]
  },
  {
   "cell_type": "code",
   "execution_count": null,
   "metadata": {},
   "outputs": [],
   "source": []
  },
  {
   "cell_type": "code",
   "execution_count": null,
   "metadata": {},
   "outputs": [],
   "source": []
  },
  {
   "cell_type": "code",
   "execution_count": null,
   "metadata": {},
   "outputs": [],
   "source": []
  },
  {
   "cell_type": "code",
   "execution_count": null,
   "metadata": {},
   "outputs": [],
   "source": []
  },
  {
   "cell_type": "code",
   "execution_count": null,
   "metadata": {},
   "outputs": [],
   "source": []
  },
  {
   "cell_type": "code",
   "execution_count": null,
   "metadata": {},
   "outputs": [],
   "source": []
  }
 ],
 "metadata": {
  "kernelspec": {
   "display_name": "venv",
   "language": "python",
   "name": "python3"
  },
  "language_info": {
   "codemirror_mode": {
    "name": "ipython",
    "version": 3
   },
   "file_extension": ".py",
   "mimetype": "text/x-python",
   "name": "python",
   "nbconvert_exporter": "python",
   "pygments_lexer": "ipython3",
   "version": "3.11.2"
  }
 },
 "nbformat": 4,
 "nbformat_minor": 2
}
